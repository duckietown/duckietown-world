version https://git-lfs.github.com/spec/v1
oid sha256:b6e50ca914c78db7687b2de653fab532026c0296b62d4e75062a2148ebd3dbe6
size 3225
